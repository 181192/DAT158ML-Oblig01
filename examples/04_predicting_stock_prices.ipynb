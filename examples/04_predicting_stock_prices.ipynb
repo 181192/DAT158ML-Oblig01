{
 "cells": [
  {
   "cell_type": "code",
   "execution_count": null,
   "metadata": {},
   "outputs": [],
   "source": [
    "import numpy as np\n",
    "import pandas as pd\n",
    "from sklearn.svm import SVR\n",
    "import matplotlib.pyplot as plt\n",
    "from googlefinance.client import get_price_data, get_prices_data, get_prices_time_data\n",
    "from sklearn.model_selection import train_test_split"
   ]
  },
  {
   "cell_type": "code",
   "execution_count": null,
   "metadata": {},
   "outputs": [],
   "source": [
    "# param = {\n",
    "#     'q': \"AAPL\", # Stock symbol (ex: \"AAPL\")\n",
    "#     'i': \"86400\", # Interval size in seconds (\"86400\" = 1 day intervals)\n",
    "#     'x': \"NASD\", # Stock exchange symbol on which stock is traded (ex: \"NASD\")\n",
    "#     'p': \"1Y\" # Period (Ex: \"1Y\" = 1 year)\n",
    "# }\n",
    "\n",
    "# df = get_price_data(param)\n",
    "# print(df)\n",
    "\n",
    "\n",
    "df = pd.read_csv(\"datasets/aapl.csv\")\n",
    "print(df)"
   ]
  },
  {
   "cell_type": "code",
   "execution_count": null,
   "metadata": {},
   "outputs": [],
   "source": [
    "def predict_price(dates, prices, x):\n",
    "    dates = np.reshape(dates, (len(dates), 1)) # converting to matrix of n x 1\n",
    "    \n",
    "    svr_lin = SVR(kernel='linear', C=1e3)\n",
    "#     svr_poly = SVR(kernel='poly', C=1e3, degree=2)\n",
    "#     svr_rbf = SVR(kernel='rbf', C=1e3, gamma=0.1) # defining the support vector regression models\n",
    "    \n",
    "    # fitting the data points in the models\n",
    "    svr_lin.fit(dates, prices)\n",
    "#     svr_poly.fit(dates, prices)\n",
    "#     svr_rbf.fit(dates, prices)\n",
    "    \n",
    "    plt.scatter(dates, prices, color= 'black', label= 'Data') # plotting the initial datapoints \n",
    "#     plt.plot(dates, svr_rbf.predict(dates), color= 'red', label= 'RBF model') # plotting the line made by the RBF kernel\n",
    "    plt.plot(dates,svr_lin.predict(dates), color= 'green', label= 'Linear model') # plotting the line made by linear kernel\n",
    "#     plt.plot(dates,svr_poly.predict(dates), color= 'blue', label= 'Polynomial model') # plotting the line made by polynomial kernel\n",
    "    plt.xlabel('Date')\n",
    "    plt.ylabel('Price')\n",
    "    plt.title('Support Vector Regression')\n",
    "    plt.legend()\n",
    "    plt.show()\n",
    "    \n",
    "#     return svr_lin.predict(x)[0], svr_poly.predict(x)[0], svr_rbf.predict(x)[0]\n",
    "    return svr_lin.predict(x)[0]"
   ]
  },
  {
   "cell_type": "code",
   "execution_count": null,
   "metadata": {},
   "outputs": [],
   "source": [
    "train, test = train_test_split(df, test_size=0.1)\n",
    "print(train)\n",
    "print(test)"
   ]
  },
  {
   "cell_type": "code",
   "execution_count": null,
   "metadata": {},
   "outputs": [],
   "source": [
    "dates = test['Date'].str.replace('-', '').astype(int).values\n",
    "prices = test['Open'].values\n",
    "\n",
    "print(dates)\n",
    "print(prices)"
   ]
  },
  {
   "cell_type": "code",
   "execution_count": null,
   "metadata": {},
   "outputs": [],
   "source": [
    "predicted_price = predict_price(dates, prices, 29)\n",
    "print(predicted_price)"
   ]
  },
  {
   "cell_type": "code",
   "execution_count": null,
   "metadata": {},
   "outputs": [],
   "source": []
  }
 ],
 "metadata": {
  "kernelspec": {
   "display_name": "DAT158",
   "language": "python",
   "name": "dat158"
  },
  "language_info": {
   "codemirror_mode": {
    "name": "ipython",
    "version": 3
   },
   "file_extension": ".py",
   "mimetype": "text/x-python",
   "name": "python",
   "nbconvert_exporter": "python",
   "pygments_lexer": "ipython3",
   "version": "3.6.5"
  }
 },
 "nbformat": 4,
 "nbformat_minor": 2
}
